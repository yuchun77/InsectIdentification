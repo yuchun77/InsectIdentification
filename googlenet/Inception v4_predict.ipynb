{
 "cells": [
  {
   "cell_type": "code",
   "execution_count": 1,
   "metadata": {},
   "outputs": [
    {
     "name": "stderr",
     "output_type": "stream",
     "text": [
      "Using TensorFlow backend.\n"
     ]
    }
   ],
   "source": [
    "import cv2\n",
    "import numpy as np\n",
    "import os\n",
    "from keras.models import load_model"
   ]
  },
  {
   "cell_type": "code",
   "execution_count": 2,
   "metadata": {},
   "outputs": [],
   "source": [
    "#預測類別轉換\n",
    "def label_decode(pre):\n",
    "    class_path=r\"D:\\\\yucheng\\\\Inception v4\\\\class_yellowsticky_Origin_20201203\\\\分類.txt\"\n",
    "    label=[]\n",
    "    \n",
    "    with open(class_path, 'r',encoding=\"utf-8\") as f:\n",
    "        for line in f.readlines():\n",
    "            label.append(line.strip())\n",
    "    \n",
    "    return label[pre]"
   ]
  },
  {
   "cell_type": "code",
   "execution_count": 3,
   "metadata": {},
   "outputs": [
    {
     "name": "stdout",
     "output_type": "stream",
     "text": [
      "蠼螋\n"
     ]
    }
   ],
   "source": [
    "if __name__ == '__main__':\n",
    "    model_path=r\"D:\\\\yucheng\\\\Inception v4\\\\class_yellowsticky_Origin_20201203\\\\model\\\\googlenetV4_classification_ORI_20201203_shuffle.h5\"\n",
    "    img_path='D:\\\\yucheng\\\\Inception v4\\\\class_yellowsticky_Origin_20201203\\\\img\\\\蠼螋_7_DSC_9899.jpg'\n",
    "\n",
    "    model = load_model(model_path)\n",
    "    img=cv2.imdecode(np.fromfile(img_path,dtype=np.uint8),cv2.IMREAD_COLOR) #等同=cv2.imread\n",
    "    \n",
    "    img=cv2.resize(img,(299,299))\n",
    "    img=img.reshape(-1, 299, 299, 3)\n",
    "    predict = model.predict(img)\n",
    "    predict = np.argmax(predict) #最大值的index  axis=0 行 axis=1 列  ex: np.argmax(predict,axis=1)\n",
    "    print(label_decode)"
   ]
  },
  {
   "cell_type": "code",
   "execution_count": null,
   "metadata": {},
   "outputs": [],
   "source": []
  }
 ],
 "metadata": {
  "kernelspec": {
   "display_name": "Python (tensorflow-gpu)",
   "language": "python",
   "name": "tensorflow-gpu"
  },
  "language_info": {
   "codemirror_mode": {
    "name": "ipython",
    "version": 3
   },
   "file_extension": ".py",
   "mimetype": "text/x-python",
   "name": "python",
   "nbconvert_exporter": "python",
   "pygments_lexer": "ipython3",
   "version": "3.5.5"
  }
 },
 "nbformat": 4,
 "nbformat_minor": 4
}
